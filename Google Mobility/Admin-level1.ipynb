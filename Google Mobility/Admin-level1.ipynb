{
 "cells": [
  {
   "cell_type": "code",
   "execution_count": 1,
   "metadata": {},
   "outputs": [],
   "source": [
    "import pandas as pd\n",
    "from pandas_profiling import ProfileReport\n",
    "import country_converter as coco\n",
    "import numpy as np\n",
    "from fuzzywuzzy import fuzz\n",
    "from fuzzywuzzy import process"
   ]
  },
  {
   "cell_type": "code",
   "execution_count": 2,
   "metadata": {},
   "outputs": [],
   "source": [
    "# Define file location\n",
    "FILE_LOCATION = \"Global_Mobility_Report.csv\"\n",
    "\n",
    "# Load the Citizen CSV as a pandas dataframe, but only selected columns\n",
    "df = pd.read_csv(FILE_LOCATION, delimiter=\",\", low_memory=False)\n",
    "# , usecols=USE_COLS_POPULATION\n",
    "df['date'] = pd.to_datetime(df['date'], errors='coerce', format= '%Y-%m-%d')\n",
    "df = df.drop(\"sub_region_2\", 1)\n",
    "df = df.drop(\"metro_area\", 1)\n",
    "df = df.drop(\"iso_3166_2_code\", 1)\n",
    "df = df.drop(\"census_fips_code\", 1)\n",
    "\n",
    "# Loading Africa Admin Level 1 boundaries\n",
    "FILE_LOCATION = \"africa_admin1.csv\"\n",
    "\n",
    "admin = pd.read_csv(FILE_LOCATION, delimiter=\",\")\n",
    "admin = admin.rename(columns={'parent_cod': 'ISO_3'}) "
   ]
  },
  {
   "cell_type": "code",
   "execution_count": 3,
   "metadata": {},
   "outputs": [
    {
     "name": "stderr",
     "output_type": "stream",
     "text": [
      "/Users/victoriarautenbach/opt/miniconda3/lib/python3.7/site-packages/ipykernel_launcher.py:1: FutureWarning: Indexing with multiple keys (implicitly converted to a tuple of keys) will be deprecated, use a list instead.\n",
      "  \"\"\"Entry point for launching an IPython kernel.\n"
     ]
    }
   ],
   "source": [
    "df = (df.groupby([pd.Grouper(key='date', freq='MS'), 'country_region_code', 'sub_region_1'])['retail_and_recreation_percent_change_from_baseline', \n",
    "                                                    'grocery_and_pharmacy_percent_change_from_baseline', 'parks_percent_change_from_baseline', \n",
    "                                                    'transit_stations_percent_change_from_baseline', 'workplaces_percent_change_from_baseline', \n",
    "                                                    'residential_percent_change_from_baseline'].mean().reset_index())\n",
    "df['date']= df['date'].dt.strftime('%b %Y')"
   ]
  },
  {
   "cell_type": "code",
   "execution_count": 4,
   "metadata": {},
   "outputs": [],
   "source": [
    "# This takes some time to execute\n",
    "\n",
    "africa = [\"DZ\", \"AO\", \"BW\", \"BI\", \"CM\", \"CV\", \"CF\", \"TD\", \"KM\", \"YT\", \"CG\", \"CD\", \"BJ\", \"GQ\", \"ET\", \"ER\", \"DJ\", \"GA\", \"GM\", \"GH\", \"GN\", \"CI\", \"KE\", \"LS\", \"LR\", \"LY\", \n",
    "          \"MG\", \"MW\", \"ML\", \"MR\", \"MU\", \"MA\", \"MZ\", \"NA\", \"NE\", \"NG\", \"GW\", \"RE\", \"RW\", \"SH\", \"ST\", \"SN\", \"SC\", \"SL\", \"SO\", \"ZA\", \"ZW\", \"SS\", \"EH\", \"SD\", \"SZ\", \"TG\", \n",
    "          \"TN\", \"UG\", \"EG\", \"TZ\", \"BF\", \"ZM\"]\n",
    "df = df[df[\"country_region_code\"].isin(africa)]\n",
    "\n",
    "df['iso3'] = \"\"\n",
    "\n",
    "for i, row in df.iterrows():\n",
    "    iso2 = row['country_region_code']\n",
    "    iso3 = coco.convert(names=iso2, to='ISO3')\n",
    "    df.at[i,'iso3'] = iso3"
   ]
  },
  {
   "cell_type": "code",
   "execution_count": 5,
   "metadata": {},
   "outputs": [],
   "source": [
    "admin = admin.rename(columns={'ISO_3': 'iso3'}) \n",
    "\n",
    "# Extract Africa Admin1 areas from Google Mobility data\n",
    "merged_df = df.merge(admin, on='iso3')\n",
    "merged_df['fuzzy_ratio'] = merged_df.apply(lambda row: fuzz.ratio(row['sub_region_1'], row['name']), axis=1)\n",
    "\n",
    "mask = (merged_df['fuzzy_ratio']>80)\n",
    "gm = merged_df[mask]\n",
    "gm = gm.drop(\"country_region_code\", 1)\n",
    "gm = gm.drop(\"sub_region_1\", 1)\n",
    "gm = gm.drop(\"iso3\", 1)\n",
    "gm = gm.drop(\"name\", 1)\n",
    "gm = gm.drop(\"area\", 1)\n",
    "gm = gm.drop(\"fuzzy_ratio\", 1)"
   ]
  },
  {
   "cell_type": "code",
   "execution_count": 6,
   "metadata": {},
   "outputs": [],
   "source": [
    "gm = gm.melt(id_vars=[\"date\", \"code\"], \n",
    "        var_name=\"Indicator\", \n",
    "        value_name=\"Count\")\n",
    "gm = gm[gm['Count'].notna()]"
   ]
  },
  {
   "cell_type": "code",
   "execution_count": 7,
   "metadata": {},
   "outputs": [],
   "source": [
    "gm = gm.rename({'code': 'Geography', 'date': 'Date'}, axis=1) \n",
    "\n",
    "retail = gm[gm['Indicator'] == \"retail_and_recreation_percent_change_from_baseline\"]\n",
    "grocery = gm[gm['Indicator'] == \"grocery_and_pharmacy_percent_change_from_baseline\"]\n",
    "parks = gm[gm['Indicator'] == \"parks_percent_change_from_baseline\"]\n",
    "transit = gm[gm['Indicator'] == \"transit_stations_percent_change_from_baseline\"]\n",
    "workplaces = gm[gm['Indicator'] == \"workplaces_percent_change_from_baseline\"]\n",
    "residential = gm[gm['Indicator'] == \"residential_percent_change_from_baseline\"]\n",
    "\n",
    "retail = retail.drop(\"Indicator\", 1)\n",
    "grocery = grocery.drop(\"Indicator\", 1)\n",
    "parks = parks.drop(\"Indicator\", 1)\n",
    "transit = transit.drop(\"Indicator\", 1)\n",
    "workplaces = workplaces.drop(\"Indicator\", 1)\n",
    "residential = residential.drop(\"Indicator\", 1)\n",
    "\n",
    "retail.to_csv(r'retail_subnational.csv', index = False, sep=',')\n",
    "grocery.to_csv(r'grocery_subnational.csv', index = False, sep=',')\n",
    "parks.to_csv(r'parks_subnational.csv', index = False, sep=',')\n",
    "transit.to_csv(r'transit_subnational.csv', index = False, sep=',')\n",
    "workplaces.to_csv(r'workplaces_subnational.csv', index = False, sep=',')\n",
    "residential.to_csv(r'residential_subnational.csv', index = False, sep=',')"
   ]
  },
  {
   "cell_type": "code",
   "execution_count": null,
   "metadata": {},
   "outputs": [],
   "source": []
  }
 ],
 "metadata": {
  "kernelspec": {
   "display_name": "Python 3",
   "language": "python",
   "name": "python3"
  },
  "language_info": {
   "codemirror_mode": {
    "name": "ipython",
    "version": 3
   },
   "file_extension": ".py",
   "mimetype": "text/x-python",
   "name": "python",
   "nbconvert_exporter": "python",
   "pygments_lexer": "ipython3",
   "version": "3.7.7"
  }
 },
 "nbformat": 4,
 "nbformat_minor": 4
}
