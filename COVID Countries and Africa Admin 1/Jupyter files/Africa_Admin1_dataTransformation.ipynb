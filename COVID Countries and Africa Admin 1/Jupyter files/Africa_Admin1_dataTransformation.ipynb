{
 "cells": [
  {
   "cell_type": "code",
   "execution_count": 1,
   "metadata": {},
   "outputs": [],
   "source": [
    "import pandas as pd\n",
    "import glob\n",
    "import numpy as np\n",
    "from pandas_profiling import ProfileReport\n",
    "from fuzzywuzzy import fuzz\n",
    "from fuzzywuzzy import process\n",
    "\n",
    "# Loading HERA data\n",
    "path = r'./hera/' # use your path\n",
    "USE_COLS = ['ISO_3', 'DATE', 'REGION', 'CONTAMINES', 'DECES', 'GUERIS', 'CONTAMINES_FEMME', 'CONTAMINES_HOMME', 'CONTAMINES_GENRE_NON_SPECIFIE'] \n",
    "\n",
    "all_files = glob.glob(path + \"/*.csv\")\n",
    "\n",
    "li = []\n",
    "\n",
    "for filename in all_files:\n",
    "    df = pd.read_csv(filename, index_col=None, header=0, delimiter=\";\", usecols=USE_COLS)\n",
    "    li.append(df)\n",
    "\n",
    "frame = pd.concat(li, axis=0, ignore_index=True)\n",
    "\n",
    "# Loading Africa Admin Level 1 boundaries\n",
    "FILE_LOCATION = \"africa_admin1.csv\"\n",
    "\n",
    "admin = pd.read_csv(FILE_LOCATION, delimiter=\",\")\n",
    "admin = admin.rename(columns={'parent_cod': 'ISO_3'})\n",
    "\n",
    "# Loading COVID19za data\n",
    "FILE_LOCATION_ZA_CASES = \"./covid19za/covid19za_provincial_cumulative_timeline_confirmed.csv\"\n",
    "FILE_LOCATION_ZA_DEATHS = \"./covid19za/covid19za_provincial_cumulative_timeline_deaths.csv\"\n",
    "FILE_LOCATION_ZA_RECOVERIES = \"./covid19za/covid19za_provincial_cumulative_timeline_recoveries.csv\"\n",
    "\n",
    "cases_za = pd.read_csv(FILE_LOCATION_ZA_CASES, delimiter=\",\", low_memory=False)\n",
    "deaths_za = pd.read_csv(FILE_LOCATION_ZA_DEATHS, delimiter=\",\", low_memory=False)\n",
    "recoveries_za = pd.read_csv(FILE_LOCATION_ZA_RECOVERIES, delimiter=\",\", low_memory=False)"
   ]
  },
  {
   "cell_type": "code",
   "execution_count": 2,
   "metadata": {},
   "outputs": [
    {
     "name": "stderr",
     "output_type": "stream",
     "text": [
      "/Users/victoriarautenbach/opt/miniconda3/lib/python3.7/site-packages/ipykernel_launcher.py:10: SettingWithCopyWarning: \n",
      "A value is trying to be set on a copy of a slice from a DataFrame.\n",
      "Try using .loc[row_indexer,col_indexer] = value instead\n",
      "\n",
      "See the caveats in the documentation: https://pandas.pydata.org/pandas-docs/stable/user_guide/indexing.html#returning-a-view-versus-a-copy\n",
      "  # Remove the CWD from sys.path while we load stuff.\n"
     ]
    },
    {
     "data": {
      "text/plain": [
       "Date          datetime64[ns]\n",
       "Cases                float64\n",
       "Deaths               float64\n",
       "Recoveries           float64\n",
       "Geography             object\n",
       "dtype: object"
      ]
     },
     "execution_count": 2,
     "metadata": {},
     "output_type": "execute_result"
    }
   ],
   "source": [
    "# HERA - Convert text to GADM code\n",
    "merged_df = frame.merge(admin, on='ISO_3')\n",
    "merged_df['fuzzy_ratio'] = merged_df.apply(lambda row: fuzz.ratio(row['REGION'], row['name']), axis=1)\n",
    "\n",
    "mask = (merged_df['fuzzy_ratio']>80)\n",
    "hera = merged_df[mask]\n",
    "hera\n",
    "\n",
    "# HERA - Standardize the column names and drop unused columns\n",
    "hera['DATE'] = pd.to_datetime(hera['DATE'], errors='coerce', format= '%d/%m/%Y')\n",
    "hera = hera.rename(columns={'CONTAMINES': 'Cases', 'DECES': 'Deaths', 'GUERIS': 'Recoveries', 'DATE': 'Date', 'CONTAMINES_FEMME': 'Cases_Female', \n",
    "                            'CONTAMINES_HOMME': 'Cases_Male', 'CONTAMINES_GENRE_NON_SPECIFIE': 'Cases_NonSpecific', 'code' : 'Geography'})\n",
    "\n",
    "hera = hera.drop(\"ISO_3\", 1)\n",
    "hera = hera.drop(\"REGION\", 1)\n",
    "hera = hera.drop(\"name\", 1)\n",
    "hera = hera.drop(\"area\", 1)\n",
    "hera = hera.drop(\"fuzzy_ratio\", 1)\n",
    "\n",
    "hera_gender = hera[['Date', 'Geography', 'Cases_Female', 'Cases_Male', 'Cases_NonSpecific']]\n",
    "\n",
    "hera = hera.drop(\"Cases_Female\", 1)\n",
    "hera = hera.drop(\"Cases_Male\", 1)\n",
    "hera = hera.drop(\"Cases_NonSpecific\", 1)\n",
    "hera['Deaths'] = pd.to_numeric(hera['Deaths'],errors='coerce')\n",
    "hera.dtypes"
   ]
  },
  {
   "cell_type": "code",
   "execution_count": 3,
   "metadata": {},
   "outputs": [],
   "source": [
    "cases_za = cases_za.rename(columns={'date': 'Date'})\n",
    "deaths_za = deaths_za.rename(columns={'date': 'Date'})\n",
    "recoveries_za = recoveries_za.rename(columns={'date': 'Date'})\n",
    "\n",
    "# Basic formatting of ZA data\n",
    "cases_za['Date'] = pd.to_datetime(cases_za['Date'], errors='coerce', format= '%d-%m-%Y')\n",
    "deaths_za['Date'] = pd.to_datetime(deaths_za['Date'], errors='coerce', format= '%d-%m-%Y')\n",
    "recoveries_za['Date'] = pd.to_datetime(recoveries_za['Date'], errors='coerce', format= '%d-%m-%Y')\n",
    "\n",
    "cases_za = cases_za.drop(\"YYYYMMDD\", 1)\n",
    "cases_za = cases_za.drop(\"source\", 1)\n",
    "cases_za = cases_za.drop(\"total\", 1)\n",
    "deaths_za = deaths_za.drop(\"YYYYMMDD\", 1)\n",
    "deaths_za = deaths_za.drop(\"source\", 1)\n",
    "deaths_za = deaths_za.drop(\"total\", 1)\n",
    "recoveries_za = recoveries_za.drop(\"YYYYMMDD\", 1)\n",
    "recoveries_za = recoveries_za.drop(\"source\", 1)\n",
    "recoveries_za = recoveries_za.drop(\"total\", 1)\n",
    "\n",
    "# Convert from cumulative to daily values\n",
    "cases_za['EC'] = cases_za['EC'].diff().fillna(cases_za['EC'])\n",
    "cases_za['FS'] = cases_za['FS'].diff().fillna(cases_za['FS'])\n",
    "cases_za['GP'] = cases_za['GP'].diff().fillna(cases_za['GP'])\n",
    "cases_za['KZN'] = cases_za['KZN'].diff().fillna(cases_za['KZN'])\n",
    "cases_za['LP'] = cases_za['LP'].diff().fillna(cases_za['LP'])\n",
    "cases_za['MP'] = cases_za['MP'].diff().fillna(cases_za['MP'])\n",
    "cases_za['NC'] = cases_za['NC'].diff().fillna(cases_za['NC'])\n",
    "cases_za['NW'] = cases_za['NW'].diff().fillna(cases_za['NW'])\n",
    "cases_za['WC'] = cases_za['WC'].diff().fillna(cases_za['WC'])\n",
    "cases_za['UNKNOWN'] = cases_za['UNKNOWN'].diff().fillna(cases_za['UNKNOWN'])\n",
    "\n",
    "deaths_za['EC'] = deaths_za['EC'].diff().fillna(deaths_za['EC'])\n",
    "deaths_za['FS'] = deaths_za['FS'].diff().fillna(deaths_za['FS'])\n",
    "deaths_za['GP'] = deaths_za['GP'].diff().fillna(deaths_za['GP'])\n",
    "deaths_za['KZN'] = deaths_za['KZN'].diff().fillna(deaths_za['KZN'])\n",
    "deaths_za['LP'] = deaths_za['LP'].diff().fillna(deaths_za['LP'])\n",
    "deaths_za['MP'] = deaths_za['MP'].diff().fillna(deaths_za['MP'])\n",
    "deaths_za['NC'] = deaths_za['NC'].diff().fillna(deaths_za['NC'])\n",
    "deaths_za['NW'] = deaths_za['NW'].diff().fillna(deaths_za['NW'])\n",
    "deaths_za['WC'] = deaths_za['WC'].diff().fillna(deaths_za['WC'])\n",
    "deaths_za['UNKNOWN'] = deaths_za['UNKNOWN'].diff().fillna(deaths_za['UNKNOWN'])\n",
    "\n",
    "recoveries_za['EC'] = recoveries_za['EC'].diff().fillna(recoveries_za['EC'])\n",
    "recoveries_za['FS'] = recoveries_za['FS'].diff().fillna(recoveries_za['FS'])\n",
    "recoveries_za['GP'] = recoveries_za['GP'].diff().fillna(recoveries_za['GP'])\n",
    "recoveries_za['KZN'] = recoveries_za['KZN'].diff().fillna(recoveries_za['KZN'])\n",
    "recoveries_za['LP'] = recoveries_za['LP'].diff().fillna(recoveries_za['LP'])\n",
    "recoveries_za['MP'] = recoveries_za['MP'].diff().fillna(recoveries_za['MP'])\n",
    "recoveries_za['NC'] = recoveries_za['NC'].diff().fillna(recoveries_za['NC'])\n",
    "recoveries_za['NW'] = recoveries_za['NW'].diff().fillna(recoveries_za['NW'])\n",
    "recoveries_za['WC'] = recoveries_za['WC'].diff().fillna(recoveries_za['WC'])\n",
    "recoveries_za['UNKNOWN'] = recoveries_za['UNKNOWN'].diff().fillna(recoveries_za['UNKNOWN'])"
   ]
  },
  {
   "cell_type": "code",
   "execution_count": 4,
   "metadata": {},
   "outputs": [
    {
     "data": {
      "text/plain": [
       "Date          datetime64[ns]\n",
       "Geography             object\n",
       "Cases                float64\n",
       "Deaths               float64\n",
       "Recoveries           float64\n",
       "dtype: object"
      ]
     },
     "execution_count": 4,
     "metadata": {},
     "output_type": "execute_result"
    }
   ],
   "source": [
    "# Transform the data to fit the other formats\n",
    "cases_za = cases_za.melt(id_vars=[\"Date\"], \n",
    "        var_name=\"Geography\", \n",
    "        value_name=\"Cases\")\n",
    "\n",
    "cases_za.dtypes\n",
    "\n",
    "deaths_za = deaths_za.melt(id_vars=[\"Date\"], \n",
    "        var_name=\"Geography\", \n",
    "        value_name=\"Deaths\")\n",
    "\n",
    "recoveries_za = recoveries_za.melt(id_vars=[\"Date\"], \n",
    "        var_name=\"Geography\", \n",
    "        value_name=\"Recoveries\")\n",
    "\n",
    "tmp = pd.merge(cases_za, deaths_za, how='left', on=['Date','Geography'])\n",
    "covid_za = pd.merge(tmp, recoveries_za, how='left', on=['Date','Geography'])\n",
    "\n",
    "covid_za = covid_za.replace(to_replace =\"GP\", \n",
    "                 value =\"GT\") \n",
    "covid_za = covid_za.replace(to_replace =\"LP\", \n",
    "                 value =\"LIM\") \n",
    "\n",
    "covid_za.dtypes"
   ]
  },
  {
   "cell_type": "code",
   "execution_count": 5,
   "metadata": {},
   "outputs": [
    {
     "data": {
      "text/plain": [
       "Date          datetime64[ns]\n",
       "Geography             object\n",
       "Cases                float64\n",
       "Deaths               float64\n",
       "Recoveries           float64\n",
       "dtype: object"
      ]
     },
     "execution_count": 5,
     "metadata": {},
     "output_type": "execute_result"
    }
   ],
   "source": [
    "# Concatenate HERA and COVID19ZA data\n",
    "covid_Africa = [covid_za, hera]\n",
    "covid_Africa = pd.concat(covid_Africa)\n",
    "# covid_Africa = covid_Africa.astype(object).replace(np.nan, 'Null')\n",
    "# covid_Africa.to_csv(r'covid_Africa.csv', index = False, sep=',')\n",
    "covid_Africa.dtypes"
   ]
  },
  {
   "cell_type": "code",
   "execution_count": 6,
   "metadata": {},
   "outputs": [],
   "source": [
    "covid_Africa.to_csv(r'./output/Africa_Admin1_Daily.csv', index = False, sep=',')"
   ]
  },
  {
   "cell_type": "code",
   "execution_count": null,
   "metadata": {},
   "outputs": [],
   "source": []
  }
 ],
 "metadata": {
  "kernelspec": {
   "display_name": "Python 3",
   "language": "python",
   "name": "python3"
  },
  "language_info": {
   "codemirror_mode": {
    "name": "ipython",
    "version": 3
   },
   "file_extension": ".py",
   "mimetype": "text/x-python",
   "name": "python",
   "nbconvert_exporter": "python",
   "pygments_lexer": "ipython3",
   "version": "3.7.7"
  }
 },
 "nbformat": 4,
 "nbformat_minor": 4
}
