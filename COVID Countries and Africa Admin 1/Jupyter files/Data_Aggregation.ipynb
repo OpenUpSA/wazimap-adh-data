{
 "cells": [
  {
   "cell_type": "code",
   "execution_count": 22,
   "metadata": {},
   "outputs": [],
   "source": [
    "import pandas as pd\n",
    "import numpy as np\n",
    "from pandas_profiling import ProfileReport"
   ]
  },
  {
   "cell_type": "code",
   "execution_count": 23,
   "metadata": {},
   "outputs": [],
   "source": [
    "# Loading Johns Hopkins University data \n",
    "FILE_LOCATION_GLOBAL = \"./output/Global_Admin0_Daily.csv\"\n",
    "FILE_LOCATION_AFRICA = \"./output/Africa_Admin1_Daily.csv\"\n",
    "FILE_LOCATION_CONTINENTS = \"./output/Continents_Daily.csv\"\n",
    "\n",
    "continents = pd.read_csv(FILE_LOCATION_CONTINENTS, delimiter=\",\")\n",
    "admin0 = pd.read_csv(FILE_LOCATION_GLOBAL, delimiter=\",\")\n",
    "admin1 = pd.read_csv(FILE_LOCATION_AFRICA, delimiter=\",\")"
   ]
  },
  {
   "cell_type": "code",
   "execution_count": 24,
   "metadata": {},
   "outputs": [],
   "source": [
    "# Concatenate admin0 and admin1\n",
    "df = [continents, admin0, admin1]\n",
    "covid = pd.concat(df)\n",
    "covid['Date'] = pd.to_datetime(covid['Date'], errors='coerce')\n",
    "\n",
    "covid = covid.replace(to_replace =\"OWID_AFR\", \n",
    "                 value =\"Africa\") \n",
    "covid = covid.replace(to_replace =\"OWID_ASI\", \n",
    "                 value =\"Asia\") \n",
    "covid = covid.replace(to_replace =\"OWID_EUR\", \n",
    "                 value =\"Europe\") \n",
    "covid = covid.replace(to_replace =\"OWID_NAM\", \n",
    "                 value =\"North America\") \n",
    "covid = covid.replace(to_replace =\"OWID_SAM\", \n",
    "                 value =\"South America\") \n",
    "covid = covid.replace(to_replace =\"OWID_OCE\", \n",
    "                 value =\"Oceania\") "
   ]
  },
  {
   "cell_type": "code",
   "execution_count": 4,
   "metadata": {},
   "outputs": [
    {
     "name": "stderr",
     "output_type": "stream",
     "text": [
      "/Users/victoriarautenbach/opt/miniconda3/lib/python3.7/site-packages/ipykernel_launcher.py:2: FutureWarning: Indexing with multiple keys (implicitly converted to a tuple of keys) will be deprecated, use a list instead.\n",
      "  \n"
     ]
    }
   ],
   "source": [
    "# Calculate totals per monthly and transform data into wazi format\n",
    "covid_monthly = (covid.groupby([pd.Grouper(key='Date', freq='MS'), 'Geography'])['Cases', 'Deaths', 'Recoveries']\n",
    "   .sum()\n",
    "   .reset_index())\n",
    "\n",
    "covid_monthly = covid_monthly.melt(id_vars=[\"Geography\", \"Date\"], \n",
    "                                    var_name=\"Indicator\", \n",
    "                                    value_name=\"Count\")\n",
    "\n",
    "covid_monthly['Date']= covid_monthly['Date'].dt.strftime('%b %Y')\n",
    "# covid_monthly = covid_monthly.astype(object).replace(np.nan, 'Null')\n",
    "\n",
    "cases_monthly = covid_monthly[covid_monthly[\"Indicator\"].isin(['Cases'])]\n",
    "deaths_monthly = covid_monthly[covid_monthly[\"Indicator\"].isin(['Deaths'])]\n",
    "recoveries_monthly = covid_monthly[covid_monthly[\"Indicator\"].isin(['Recoveries'])]\n",
    "\n",
    "cases_monthly = cases_monthly.drop(\"Indicator\", 1)\n",
    "deaths_monthly = deaths_monthly.drop(\"Indicator\", 1)\n",
    "recoveries_monthly = recoveries_monthly.drop(\"Indicator\", 1)\n",
    "\n",
    "cases_monthly = cases_monthly[cases_monthly['Count'].notna()]\n",
    "deaths_monthly = deaths_monthly[deaths_monthly['Count'].notna()]\n",
    "recoveries_monthly = recoveries_monthly[recoveries_monthly['Count'].notna()]\n",
    "\n",
    "cases_monthly.to_csv(r'./output/wazimap/cases_monthly.csv', index = False, sep=',')\n",
    "deaths_monthly.to_csv(r'./output/wazimap/deaths_monthly.csv', index = False, sep=',')\n",
    "recoveries_monthly.to_csv(r'./output/wazimap/recoveries_monthly.csv', index = False, sep=',')"
   ]
  },
  {
   "cell_type": "code",
   "execution_count": 5,
   "metadata": {},
   "outputs": [
    {
     "name": "stderr",
     "output_type": "stream",
     "text": [
      "/Users/victoriarautenbach/opt/miniconda3/lib/python3.7/site-packages/ipykernel_launcher.py:9: FutureWarning: Indexing with multiple keys (implicitly converted to a tuple of keys) will be deprecated, use a list instead.\n",
      "  if __name__ == '__main__':\n"
     ]
    }
   ],
   "source": [
    "# Calculate average per week from January 2021 and transform data into wazi format\n",
    "start_date = '2021-01-01'\n",
    "end_date = '2021-02-23'\n",
    "mask = (covid['Date'] > start_date) & (covid['Date'] <= end_date)\n",
    "covid_weekly = covid.loc[mask]\n",
    "\n",
    "cases_weekly = covid_weekly[[\"Date\", \"Geography\", \"Cases\"]]\n",
    "cases_weekly = cases_weekly[cases_weekly['Cases'].notna()]              \n",
    "cases_weekly = (cases_weekly.groupby([pd.Grouper(key='Date', freq='W'), 'Geography'])['Cases']\n",
    "   .sum()\n",
    "   .reset_index())\n",
    "\n",
    "cases_weekly = cases_weekly.melt(id_vars=[\"Geography\", \"Date\"], \n",
    "                                    var_name=\"Indicator\", \n",
    "                                    value_name=\"Count\")\n",
    "\n",
    "cases_weekly['Date']= cases_weekly['Date'].dt.strftime('2021-WN%U'')\n",
    "cases_weekly = cases_weekly.drop(\"Indicator\", 1)\n",
    "cases_weekly.to_csv(r'./output/wazimap/cases_weekly.csv', index = False, sep=',')\n",
    "\n",
    "\n",
    "                                                       \n",
    "                                                       \n",
    "covid_weekly = (covid_weekly.groupby([pd.Grouper(key='Date', freq='W'), 'Geography'])['Cases', 'Deaths', 'Recoveries']\n",
    "   .mean().round(0)\n",
    "   .reset_index())\n",
    "\n",
    "covid_weekly = covid_weekly.melt(id_vars=[\"Geography\", \"Date\"], \n",
    "                                    var_name=\"Indicator\", \n",
    "                                    value_name=\"Count\")\n",
    "\n",
    "covid_weekly['Date']= covid_weekly['Date'].dt.strftime('2021-WN%U')\n",
    "# covid_weekly = covid_weekly.astype(object).replace(np.nan, 'Null')\n",
    "\n",
    "cases_weekly = covid_weekly[covid_weekly[\"Indicator\"].isin(['Cases'])]\n",
    "deaths_weekly = covid_weekly[covid_weekly[\"Indicator\"].isin(['Deaths'])]\n",
    "recoveries_weekly = covid_weekly[covid_weekly[\"Indicator\"].isin(['Recoveries'])]\n",
    "\n",
    "cases_weekly = cases_weekly.drop(\"Indicator\", 1)\n",
    "deaths_weekly = deaths_weekly.drop(\"Indicator\", 1)\n",
    "recoveries_weekly = recoveries_weekly.drop(\"Indicator\", 1)\n",
    "\n",
    "cases_weekly = cases_weekly[cases_weekly['Count'].notna()]\n",
    "deaths_weekly = deaths_weekly[deaths_weekly['Count'].notna()]\n",
    "recoveries_weekly = recoveries_weekly[recoveries_weekly['Count'].notna()]\n",
    "\n",
    "cases_weekly.to_csv(r'./output/wazimap/cases_weekly.csv', index = False, sep=',')\n",
    "deaths_weekly.to_csv(r'./output/wazimap/deaths_weekly.csv', index = False, sep=',')\n",
    "recoveries_weekly.to_csv(r'./output/wazimap/recoveries_weekly.csv', index = False, sep=',')"
   ]
  },
  {
   "cell_type": "code",
   "execution_count": 6,
   "metadata": {},
   "outputs": [],
   "source": [
    "# Calculate cumsum per month and transform data into wazi format\n",
    "# This was done using the OWID data"
   ]
  },
  {
   "cell_type": "code",
   "execution_count": 27,
   "metadata": {},
   "outputs": [],
   "source": [
    "# Calculate totals per monthly and transform data into wazi format\n",
    "cases_monthly = covid[[\"Date\", \"Geography\", \"Cases\"]]\n",
    "cases_monthly = cases_monthly[cases_monthly['Cases'].notna()]              \n",
    "cases_monthly = (cases_monthly.groupby([pd.Grouper(key='Date', freq='MS'), 'Geography'])['Cases']\n",
    "   .sum()\n",
    "   .reset_index())\n",
    "\n",
    "cases_monthly = cases_monthly.melt(id_vars=[\"Geography\", \"Date\"], \n",
    "                                    var_name=\"Indicator\", \n",
    "                                    value_name=\"Count\")\n",
    "\n",
    "cases_monthly['Date']= cases_monthly['Date'].dt.strftime('%b %Y')\n",
    "cases_monthly = cases_monthly.drop(\"Indicator\", 1)\n",
    "cases_monthly.to_csv(r'./output/wazimap/cases_monthly.csv', index = False, sep=',')\n",
    "\n",
    "\n",
    "deaths_monthly = covid[[\"Date\", \"Geography\", \"Deaths\"]]\n",
    "deaths_monthly = deaths_monthly[deaths_monthly['Deaths'].notna()]              \n",
    "deaths_monthly = (deaths_monthly.groupby([pd.Grouper(key='Date', freq='MS'), 'Geography'])['Deaths']\n",
    "   .sum()\n",
    "   .reset_index())\n",
    "\n",
    "deaths_monthly = deaths_monthly.melt(id_vars=[\"Geography\", \"Date\"], \n",
    "                                    var_name=\"Indicator\", \n",
    "                                    value_name=\"Count\")\n",
    "\n",
    "deaths_monthly['Date']= deaths_monthly['Date'].dt.strftime('%b %Y')\n",
    "deaths_monthly = deaths_monthly.drop(\"Indicator\", 1)\n",
    "deaths_monthly.to_csv(r'./output/wazimap/deaths_monthly.csv', index = False, sep=',')\n",
    "\n",
    "\n",
    "recoveries_monthly = covid[[\"Date\", \"Geography\", \"Recoveries\"]]\n",
    "recoveries_monthly = recoveries_monthly[recoveries_monthly['Recoveries'].notna()]              \n",
    "recoveries_monthly = (recoveries_monthly.groupby([pd.Grouper(key='Date', freq='MS'), 'Geography'])['Recoveries']\n",
    "   .sum()\n",
    "   .reset_index())\n",
    "\n",
    "recoveries_monthly = recoveries_monthly.melt(id_vars=[\"Geography\", \"Date\"], \n",
    "                                    var_name=\"Indicator\", \n",
    "                                    value_name=\"Count\")\n",
    "\n",
    "recoveries_monthly['Date']= recoveries_monthly['Date'].dt.strftime('%b %Y')\n",
    "recoveries_monthly = recoveries_monthly.drop(\"Indicator\", 1)\n",
    "recoveries_monthly.to_csv(r'./output/wazimap/recoveries_monthly.csv', index = False, sep=',')"
   ]
  },
  {
   "cell_type": "code",
   "execution_count": null,
   "metadata": {},
   "outputs": [],
   "source": []
  }
 ],
 "metadata": {
  "kernelspec": {
   "display_name": "Python 3",
   "language": "python",
   "name": "python3"
  },
  "language_info": {
   "codemirror_mode": {
    "name": "ipython",
    "version": 3
   },
   "file_extension": ".py",
   "mimetype": "text/x-python",
   "name": "python",
   "nbconvert_exporter": "python",
   "pygments_lexer": "ipython3",
   "version": "3.7.7"
  }
 },
 "nbformat": 4,
 "nbformat_minor": 4
}
