{
 "cells": [
  {
   "cell_type": "code",
   "execution_count": 1,
   "metadata": {},
   "outputs": [],
   "source": [
    "import pandas as pd\n",
    "import numpy as np\n",
    "from pandas_profiling import ProfileReport\n",
    "\n",
    "# Loading Johns Hopkins University data \n",
    "FILE_LOCATION_CSSE_CASES = \"./owid/owid-covid-data.csv\"\n",
    "USE_COLS = ['iso_code', 'continent', 'date', 'new_cases', 'new_deaths'] \n",
    "\n",
    "owid = pd.read_csv(FILE_LOCATION_CSSE_CASES, delimiter=\",\", usecols=USE_COLS)"
   ]
  },
  {
   "cell_type": "code",
   "execution_count": 2,
   "metadata": {},
   "outputs": [],
   "source": [
    "owid = owid.rename(columns={'iso_code': 'Geography', 'date': 'Date', 'new_cases': 'Cases', 'new_deaths': 'Deaths'})\n",
    "owid['Date'] = pd.to_datetime(owid['Date'], errors='coerce')"
   ]
  },
  {
   "cell_type": "code",
   "execution_count": 3,
   "metadata": {},
   "outputs": [],
   "source": [
    "# Create df with the continent information\n",
    "continent_covid = owid\n",
    "continent_covid['Date'] = pd.to_datetime(continent_covid['Date'], errors='coerce')\n",
    "\n",
    "continent_cases = continent_covid.groupby(['continent', 'Date'])['Cases'].agg(['sum'])\n",
    "continent_deaths = continent_covid.groupby(['continent', 'Date'])['Deaths'].agg(['sum'])\n",
    "\n",
    "continent_cases = continent_cases.reset_index()\n",
    "continent_deaths = continent_deaths.reset_index()\n",
    "\n",
    "continent_cases = continent_cases.rename(columns={'continent': 'Geography', 'sum': 'Cases'})\n",
    "continent_deaths = continent_deaths.rename(columns={'continent': 'Geography', 'sum': 'Deaths'})\n",
    "\n",
    "continent_cmb = pd.merge(continent_cases, continent_deaths, how='left', on=['Date','Geography'])\n",
    "\n",
    "column_names = [\"Date\", \"Geography\", \"Cases\", \"Deaths\"]\n",
    "continent_cmb = continent_cmb.reindex(columns=column_names)\n",
    "\n",
    "continent_cmb.to_csv(r'./output/Continents_Daily.csv', index = False, sep=',')"
   ]
  },
  {
   "cell_type": "code",
   "execution_count": 4,
   "metadata": {},
   "outputs": [],
   "source": [
    "owid = owid.drop(\"continent\", 1)\n",
    "\n",
    "column_names = [\"Date\", \"Geography\", \"Cases\", \"Deaths\"]\n",
    "owid = owid.reindex(columns=column_names)\n",
    "\n",
    "owid.to_csv(r'./output/Global_Admin0_Daily.csv', index = False, sep=',')"
   ]
  },
  {
   "cell_type": "code",
   "execution_count": null,
   "metadata": {},
   "outputs": [],
   "source": []
  },
  {
   "cell_type": "code",
   "execution_count": null,
   "metadata": {},
   "outputs": [],
   "source": []
  }
 ],
 "metadata": {
  "kernelspec": {
   "display_name": "Python 3",
   "language": "python",
   "name": "python3"
  },
  "language_info": {
   "codemirror_mode": {
    "name": "ipython",
    "version": 3
   },
   "file_extension": ".py",
   "mimetype": "text/x-python",
   "name": "python",
   "nbconvert_exporter": "python",
   "pygments_lexer": "ipython3",
   "version": "3.7.7"
  }
 },
 "nbformat": 4,
 "nbformat_minor": 4
}
