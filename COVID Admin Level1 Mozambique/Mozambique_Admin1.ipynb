{
 "cells": [
  {
   "cell_type": "code",
   "execution_count": 27,
   "metadata": {},
   "outputs": [],
   "source": [
    "import pandas as pd\n",
    "import glob\n",
    "import numpy as np\n",
    "from pandas_profiling import ProfileReport\n",
    "from fuzzywuzzy import fuzz\n",
    "from fuzzywuzzy import process\n",
    "\n",
    "# Loading Mozambique Admin Level 1 boundaries\n",
    "data = pd.read_excel ('mozambique-covid-19-cases.xlsx', engine='openpyxl') \n",
    "df = pd.DataFrame(data)\n",
    "df = df.iloc[1:]\n",
    "\n",
    "# Loading Africa Admin Level 1 boundaries\n",
    "FILE_LOCATION = \"africa_admin1.csv\"\n",
    "\n",
    "admin = pd.read_csv(FILE_LOCATION, delimiter=\",\")\n",
    "admin = admin.rename(columns={'parent_cod': 'ISO_3'})"
   ]
  },
  {
   "cell_type": "code",
   "execution_count": 28,
   "metadata": {},
   "outputs": [],
   "source": [
    "# Convert text to GADM code\n",
    "df['ISO_3'] = 'MOZ'\n",
    "\n",
    "merged_df = df.merge(admin, on='ISO_3')\n",
    "merged_df['fuzzy_ratio'] = merged_df.apply(lambda row: fuzz.ratio(row['Province'], row['name']), axis=1)\n",
    "\n",
    "mask = (merged_df['fuzzy_ratio']>80)\n",
    "moz = merged_df[mask]\n",
    "\n",
    "moz = moz.drop(\"ISO_3\", 1)\n",
    "moz = moz.drop(\"Province\", 1)\n",
    "moz = moz.drop(\"name\", 1)\n",
    "moz = moz.drop(\"area\", 1)\n",
    "moz = moz.drop(\"fuzzy_ratio\", 1)\n",
    "\n",
    "moz = moz.rename(columns={'Positive Cases': 'Cases', 'Recovered': 'Recoveries', 'code' : 'Geography'})"
   ]
  },
  {
   "cell_type": "code",
   "execution_count": 15,
   "metadata": {},
   "outputs": [
    {
     "name": "stderr",
     "output_type": "stream",
     "text": [
      "/Users/victoriarautenbach/opt/miniconda3/lib/python3.7/site-packages/ipykernel_launcher.py:2: FutureWarning: Indexing with multiple keys (implicitly converted to a tuple of keys) will be deprecated, use a list instead.\n",
      "  \n"
     ]
    }
   ],
   "source": [
    "# Calculate totals per monthly and transform data into wazi format\n",
    "covid_monthly = (moz.groupby([pd.Grouper(key='Date', freq='MS'), 'Geography'])['Cases', 'Deaths', 'Recoveries']\n",
    "   .sum()\n",
    "   .reset_index())\n",
    "\n",
    "covid_monthly = covid_monthly.melt(id_vars=[\"Geography\", \"Date\"], \n",
    "                                    var_name=\"Indicator\", \n",
    "                                    value_name=\"Count\")\n",
    "\n",
    "covid_monthly['Date']= covid_monthly['Date'].dt.strftime('%b %Y')\n",
    "# covid_monthly = covid_monthly.astype(object).replace(np.nan, 'Null')\n",
    "\n",
    "cases_monthly = covid_monthly[covid_monthly[\"Indicator\"].isin(['Cases'])]\n",
    "deaths_monthly = covid_monthly[covid_monthly[\"Indicator\"].isin(['Deaths'])]\n",
    "recoveries_monthly = covid_monthly[covid_monthly[\"Indicator\"].isin(['Recoveries'])]\n",
    "\n",
    "cases_monthly = cases_monthly.drop(\"Indicator\", 1)\n",
    "deaths_monthly = deaths_monthly.drop(\"Indicator\", 1)\n",
    "recoveries_monthly = recoveries_monthly.drop(\"Indicator\", 1)\n",
    "\n",
    "cases_monthly = cases_monthly[cases_monthly['Count'].notna()]\n",
    "deaths_monthly = deaths_monthly[deaths_monthly['Count'].notna()]\n",
    "recoveries_monthly = recoveries_monthly[recoveries_monthly['Count'].notna()]\n",
    "\n",
    "cases_monthly.to_csv(r'./output/moz_cases_monthly.csv', index = False, sep=',')\n",
    "deaths_monthly.to_csv(r'./output/moz_deaths_monthly.csv', index = False, sep=',')\n",
    "recoveries_monthly.to_csv(r'./output/moz_recoveries_monthly.csv', index = False, sep=',')"
   ]
  },
  {
   "cell_type": "code",
   "execution_count": 30,
   "metadata": {},
   "outputs": [
    {
     "name": "stderr",
     "output_type": "stream",
     "text": [
      "/Users/victoriarautenbach/opt/miniconda3/lib/python3.7/site-packages/ipykernel_launcher.py:29: FutureWarning: Indexing with multiple keys (implicitly converted to a tuple of keys) will be deprecated, use a list instead.\n"
     ]
    }
   ],
   "source": [
    "moz['Date'] = pd.to_datetime(moz['Date'], errors='coerce')\n",
    "moz['Cases'] = pd.to_numeric(moz['Cases'],errors='coerce')\n",
    "moz['Deaths'] = pd.to_numeric(moz['Deaths'],errors='coerce')\n",
    "moz['Recoveries'] = pd.to_numeric(moz['Recoveries'],errors='coerce')\n",
    "\n",
    "# Calculate average per week from January 2021 and transform data into wazi format\n",
    "start_date = '2021-01-01'\n",
    "end_date = '2021-04-08'\n",
    "mask = (moz['Date'] > start_date) & (moz['Date'] <= end_date)\n",
    "covid_weekly = moz.loc[mask]\n",
    "\n",
    "cases_weekly = covid_weekly[[\"Date\", \"Geography\", \"Cases\"]]\n",
    "cases_weekly = cases_weekly[cases_weekly['Cases'].notna()]              \n",
    "cases_weekly = (cases_weekly.groupby([pd.Grouper(key='Date', freq='W'), 'Geography'])['Cases']\n",
    "   .sum()\n",
    "   .reset_index())\n",
    "\n",
    "cases_weekly = cases_weekly.melt(id_vars=[\"Geography\", \"Date\"], \n",
    "                                    var_name=\"Indicator\", \n",
    "                                    value_name=\"Count\")\n",
    "\n",
    "cases_weekly['Date']= cases_weekly['Date'].dt.strftime('2021-WN%U')\n",
    "cases_weekly = cases_weekly.drop(\"Indicator\", 1)\n",
    "cases_weekly.to_csv(r'./output/moz_cases_weekly.csv', index = False, sep=',')\n",
    "\n",
    "\n",
    "                                                       \n",
    "                                                       \n",
    "covid_weekly = (covid_weekly.groupby([pd.Grouper(key='Date', freq='W'), 'Geography'])['Cases', 'Deaths', 'Recoveries']\n",
    "   .mean().round(0)\n",
    "   .reset_index())\n",
    "\n",
    "covid_weekly = covid_weekly.melt(id_vars=[\"Geography\", \"Date\"], \n",
    "                                    var_name=\"Indicator\", \n",
    "                                    value_name=\"Count\")\n",
    "\n",
    "covid_weekly['Date']= covid_weekly['Date'].dt.strftime('2021-WN%U')\n",
    "# covid_weekly = covid_weekly.astype(object).replace(np.nan, 'Null')\n",
    "\n",
    "cases_weekly = covid_weekly[covid_weekly[\"Indicator\"].isin(['Cases'])]\n",
    "deaths_weekly = covid_weekly[covid_weekly[\"Indicator\"].isin(['Deaths'])]\n",
    "recoveries_weekly = covid_weekly[covid_weekly[\"Indicator\"].isin(['Recoveries'])]\n",
    "\n",
    "cases_weekly = cases_weekly.drop(\"Indicator\", 1)\n",
    "deaths_weekly = deaths_weekly.drop(\"Indicator\", 1)\n",
    "recoveries_weekly = recoveries_weekly.drop(\"Indicator\", 1)\n",
    "\n",
    "cases_weekly = cases_weekly[cases_weekly['Count'].notna()]\n",
    "deaths_weekly = deaths_weekly[deaths_weekly['Count'].notna()]\n",
    "recoveries_weekly = recoveries_weekly[recoveries_weekly['Count'].notna()]\n",
    "\n",
    "cases_weekly.to_csv(r'./output/moz_cases_weekly.csv', index = False, sep=',')\n",
    "deaths_weekly.to_csv(r'./output/moz_deaths_weekly.csv', index = False, sep=',')\n",
    "recoveries_weekly.to_csv(r'./output/moz_recoveries_weekly.csv', index = False, sep=',')"
   ]
  },
  {
   "cell_type": "code",
   "execution_count": null,
   "metadata": {},
   "outputs": [],
   "source": []
  }
 ],
 "metadata": {
  "kernelspec": {
   "display_name": "Python 3",
   "language": "python",
   "name": "python3"
  },
  "language_info": {
   "codemirror_mode": {
    "name": "ipython",
    "version": 3
   },
   "file_extension": ".py",
   "mimetype": "text/x-python",
   "name": "python",
   "nbconvert_exporter": "python",
   "pygments_lexer": "ipython3",
   "version": "3.7.7"
  }
 },
 "nbformat": 4,
 "nbformat_minor": 4
}
