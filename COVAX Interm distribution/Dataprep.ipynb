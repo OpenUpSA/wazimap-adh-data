{
 "cells": [
  {
   "cell_type": "code",
   "execution_count": 1,
   "metadata": {},
   "outputs": [],
   "source": [
    "import pandas as pd\n",
    "from pandas_profiling import ProfileReport\n",
    "import country_converter as coco\n",
    "import numpy as np\n",
    "from fuzzywuzzy import fuzz\n",
    "from fuzzywuzzy import process"
   ]
  },
  {
   "cell_type": "code",
   "execution_count": 5,
   "metadata": {},
   "outputs": [],
   "source": [
    "# Define file location\n",
    "FILE_LOCATION = \"COVAX Facility Interim Distribution Forecast - Data.csv\"\n",
    "\n",
    "# Load the Citizen CSV as a pandas dataframe, but only selected columns\n",
    "df = pd.read_csv(FILE_LOCATION, delimiter=\",\", low_memory=False)\n",
    "df = df.drop(\"WHO Region\", 1)\n",
    "df = df.drop(\"Participant\", 1)"
   ]
  },
  {
   "cell_type": "code",
   "execution_count": 6,
   "metadata": {},
   "outputs": [
    {
     "data": {
      "text/html": [
       "<div>\n",
       "<style scoped>\n",
       "    .dataframe tbody tr th:only-of-type {\n",
       "        vertical-align: middle;\n",
       "    }\n",
       "\n",
       "    .dataframe tbody tr th {\n",
       "        vertical-align: top;\n",
       "    }\n",
       "\n",
       "    .dataframe thead th {\n",
       "        text-align: right;\n",
       "    }\n",
       "</style>\n",
       "<table border=\"1\" class=\"dataframe\">\n",
       "  <thead>\n",
       "    <tr style=\"text-align: right;\">\n",
       "      <th></th>\n",
       "      <th>Geography</th>\n",
       "      <th>COVAX Participation Status</th>\n",
       "      <th>Indicator</th>\n",
       "      <th>Count</th>\n",
       "    </tr>\n",
       "  </thead>\n",
       "  <tbody>\n",
       "    <tr>\n",
       "      <th>0</th>\n",
       "      <td>AFG</td>\n",
       "      <td>AMC</td>\n",
       "      <td>No. of doses - AZ/SII \\n(indicative distribution)</td>\n",
       "      <td>3024000.0</td>\n",
       "    </tr>\n",
       "    <tr>\n",
       "      <th>4</th>\n",
       "      <td>AGO</td>\n",
       "      <td>AMC</td>\n",
       "      <td>No. of doses - AZ/SII \\n(indicative distribution)</td>\n",
       "      <td>2544000.0</td>\n",
       "    </tr>\n",
       "    <tr>\n",
       "      <th>11</th>\n",
       "      <td>BGD</td>\n",
       "      <td>AMC</td>\n",
       "      <td>No. of doses - AZ/SII \\n(indicative distribution)</td>\n",
       "      <td>12792000.0</td>\n",
       "    </tr>\n",
       "    <tr>\n",
       "      <th>14</th>\n",
       "      <td>BEN</td>\n",
       "      <td>AMC</td>\n",
       "      <td>No. of doses - AZ/SII \\n(indicative distribution)</td>\n",
       "      <td>936000.0</td>\n",
       "    </tr>\n",
       "    <tr>\n",
       "      <th>15</th>\n",
       "      <td>BTN</td>\n",
       "      <td>AMC</td>\n",
       "      <td>No. of doses - AZ/SII \\n(indicative distribution)</td>\n",
       "      <td>108000.0</td>\n",
       "    </tr>\n",
       "  </tbody>\n",
       "</table>\n",
       "</div>"
      ],
      "text/plain": [
       "   Geography COVAX Participation Status  \\\n",
       "0        AFG                        AMC   \n",
       "4        AGO                        AMC   \n",
       "11       BGD                        AMC   \n",
       "14       BEN                        AMC   \n",
       "15       BTN                        AMC   \n",
       "\n",
       "                                            Indicator       Count  \n",
       "0   No. of doses - AZ/SII \\n(indicative distribution)   3024000.0  \n",
       "4   No. of doses - AZ/SII \\n(indicative distribution)   2544000.0  \n",
       "11  No. of doses - AZ/SII \\n(indicative distribution)  12792000.0  \n",
       "14  No. of doses - AZ/SII \\n(indicative distribution)    936000.0  \n",
       "15  No. of doses - AZ/SII \\n(indicative distribution)    108000.0  "
      ]
     },
     "execution_count": 6,
     "metadata": {},
     "output_type": "execute_result"
    }
   ],
   "source": [
    "df = df.melt(id_vars=[\"ISO3\", \"SFP/AMC\"], \n",
    "        var_name=\"Indicator\", \n",
    "        value_name=\"Count\")\n",
    "df = df[df['Count'].notna()]\n",
    "\n",
    "df = df.rename(columns={'ISO3': 'Geography', 'SFP/AMC': 'COVAX Participation Status'})\n",
    "df.head()"
   ]
  },
  {
   "cell_type": "code",
   "execution_count": 8,
   "metadata": {},
   "outputs": [],
   "source": [
    "df = df.replace(to_replace =\"No. of doses - AZ/SII (indicative distribution)\", \n",
    "                 value =\"AZ/SII (indicative distribution)\") \n",
    "df = df.replace(to_replace =\"No. of doses – AZ/SKBio (indicative distribution)\", \n",
    "                 value =\"AZ/SKBio (indicative distribution)\") \n",
    "df = df.replace(to_replace =\"No. of doses - Pfizer-BioNTech (exceptional allocation)\", \n",
    "                 value =\"Pfizer-BioNTech (exceptional allocation)\") \n",
    "\n",
    "df = df.replace(to_replace =\"SFP\", \n",
    "                 value =\"Self Financing Participant\") \n",
    "df = df.replace(to_replace =\"AMC\", \n",
    "                 value =\"Advance Market Commitment\") \n",
    "\n",
    "df.to_csv(r'covax_output.csv', index = False, sep=',')"
   ]
  },
  {
   "cell_type": "code",
   "execution_count": null,
   "metadata": {},
   "outputs": [],
   "source": []
  }
 ],
 "metadata": {
  "kernelspec": {
   "display_name": "Python 3",
   "language": "python",
   "name": "python3"
  },
  "language_info": {
   "codemirror_mode": {
    "name": "ipython",
    "version": 3
   },
   "file_extension": ".py",
   "mimetype": "text/x-python",
   "name": "python",
   "nbconvert_exporter": "python",
   "pygments_lexer": "ipython3",
   "version": "3.7.7"
  }
 },
 "nbformat": 4,
 "nbformat_minor": 4
}
